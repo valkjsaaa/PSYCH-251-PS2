{
 "cells": [
  {
   "cell_type": "markdown",
   "metadata": {
    "run_control": {
     "frozen": false,
     "read_only": false
    }
   },
   "source": [
    "This is problem set #4, in which we want you to integrate your knowledge of data wrangling with some basic simulation skills. It's a short problem set to help you get your feet wet in testing statistical concepts through \"making up data\" rather than consulting a textbook or doing math. \n",
    "\n",
    "For ease of reading, please separate your answers from our text by marking our text with the `>` character (indicating quotes). \n"
   ]
  },
  {
   "cell_type": "code",
   "execution_count": 1,
   "metadata": {},
   "outputs": [],
   "source": [
    "import pandas as pd\n",
    "import numpy as np\n",
    "import plotnine as gg\n",
    "from scipy import stats\n",
    "import seaborn as sns"
   ]
  },
  {
   "cell_type": "markdown",
   "metadata": {},
   "source": [
    "# Part 1: ggplot practice\n",
    "\n",
    "This part is a warmup, it should be relatively straightforward `ggplot2` practice.\n",
    "\n",
    "Load data from Frank, Vul, Saxe (2011, Infancy), a study in which we measured infants' looking to hands in moving scenes. There were infants from 3 months all the way to about two years, and there were two movie conditions (`Faces_Medium`, in which kids played on a white background, and `Faces_Plus`, in which the backgrounds were more complex and the people in the videos were both kids and adults). An eye-tracker measured children's attention to faces. This version of the dataset only gives two conditions and only shows the amount of looking at hands (other variables were measured as well). \n",
    "\n",
    "```{r}\n",
    "fvs <- read_csv(\"data/FVS2011-hands.csv\")\n",
    "```\n"
   ]
  },
  {
   "cell_type": "code",
   "execution_count": 2,
   "metadata": {},
   "outputs": [],
   "source": [
    "fvs = pd.read_csv(\"data/FVS2011-hands.csv\")"
   ]
  },
  {
   "cell_type": "markdown",
   "metadata": {},
   "source": [
    "First, use `ggplot` to plot a histogram of the ages of children in the study. NOTE: this is a repeated measures design, so you can't just take a histogram of every measurement. \n",
    "\n",
    "```{r}\n",
    "```"
   ]
  },
  {
   "cell_type": "code",
   "execution_count": 3,
   "metadata": {},
   "outputs": [
    {
     "ename": "NameError",
     "evalue": "name 'sns' is not defined",
     "output_type": "error",
     "traceback": [
      "\u001b[0;31m---------------------------------------------------------------------------\u001b[0m",
      "\u001b[0;31mNameError\u001b[0m                                 Traceback (most recent call last)",
      "\u001b[0;32m<ipython-input-3-633041150f85>\u001b[0m in \u001b[0;36m<module>\u001b[0;34m\u001b[0m\n\u001b[0;32m----> 1\u001b[0;31m \u001b[0msns\u001b[0m\u001b[0;34m.\u001b[0m\u001b[0mdistplot\u001b[0m\u001b[0;34m(\u001b[0m\u001b[0mfvs\u001b[0m\u001b[0;34m.\u001b[0m\u001b[0mage\u001b[0m\u001b[0;34m)\u001b[0m\u001b[0;34m\u001b[0m\u001b[0;34m\u001b[0m\u001b[0m\n\u001b[0m",
      "\u001b[0;31mNameError\u001b[0m: name 'sns' is not defined"
     ]
    }
   ],
   "source": [
    "sns.distplot(fvs.age)"
   ]
  },
  {
   "cell_type": "markdown",
   "metadata": {},
   "source": [
    "\n",
    "Second, make a scatter plot showing hand looking as a function of age and condition. Add appropriate smoothing lines. Take the time to fix the axis labels and make the plot look nice.\n"
   ]
  },
  {
   "cell_type": "code",
   "execution_count": null,
   "metadata": {},
   "outputs": [],
   "source": [
    "g = sns.lmplot(y='hand.look', x='age', hue='condition', data=fvs)\n",
    "g = g.set_axis_labels(\"Age\", \"Hand Looking Amount\")\n",
    "for t, l in zip(g._legend.texts, [\"Faces Medium\", \"Faces Plus\"]): t.set_text(l)"
   ]
  },
  {
   "cell_type": "markdown",
   "metadata": {},
   "source": [
    "What do you conclude from this pattern of data?"
   ]
  },
  {
   "cell_type": "markdown",
   "metadata": {},
   "source": [
    "> Children's hand looking time positively correlates to their age. For movies with more complex scenes, the correlation seems to be stronger."
   ]
  },
  {
   "cell_type": "markdown",
   "metadata": {},
   "source": [
    "\n",
    "What statistical analyses would you perform here to quantify these differences?\n"
   ]
  },
  {
   "cell_type": "markdown",
   "metadata": {},
   "source": [
    "\n",
    ">  I would compute a linear regression t-test on the coorelation between hand looking amount and age under both conditions. The null-hypothesis would be that the slopes in both conditions are the same.\n"
   ]
  },
  {
   "cell_type": "code",
   "execution_count": null,
   "metadata": {},
   "outputs": [],
   "source": [
    "# Part 2: Simulation"
   ]
  },
  {
   "cell_type": "markdown",
   "metadata": {},
   "source": [
    "\n",
    "Let's start by convincing ourselves that t-tests have the appropriate false positive rate. Run 10,000 t-tests with standard, normally-distributed data from a made up 30-person, single-measurement experiment (the command for sampling from a normal distribution is `rnorm`).\n",
    "\n",
    "The goal of these t-tests are to determine, based on 30 observations, whether the underlying distribution (in this case a normal distribution with mean 0 and standard deviation 1) has a mean that is different from 0. In reality, the mean is not different from 0 (we sampled it using `rnorm`), but sometimes the 30 observations we get in our experiment will suggest that the mean is higher or lower. In this case, we'll get a \"significant\" result and incorrectly reject the null hypothesis of mean 0.\n",
    "\n",
    "What's the proportion of \"significant\" results ($p < .05$) that you see?\n",
    "\n",
    "First do this using a `for` loop.\n",
    "\n",
    "```{r}\n",
    "```"
   ]
  },
  {
   "cell_type": "code",
   "execution_count": null,
   "metadata": {},
   "outputs": [],
   "source": [
    "significant_count = 0\n",
    "for _ in range(30):\n",
    "    dist = np.random.normal(size=30)\n",
    "    ttest_result = stats.ttest_1samp(dist, 0)\n",
    "    print(ttest_result)\n",
    "    if ttest_result.pvalue < 0.05:\n",
    "        significant_count += 1\n",
    "\n",
    "print(significant_count)"
   ]
  },
  {
   "cell_type": "markdown",
   "metadata": {},
   "source": [
    "\n",
    "Next, do this using the `replicate` function:\n",
    "\n",
    "```{r}\n",
    "```\n"
   ]
  },
  {
   "cell_type": "code",
   "execution_count": null,
   "metadata": {},
   "outputs": [],
   "source": [
    "# Not available"
   ]
  },
  {
   "cell_type": "markdown",
   "metadata": {},
   "source": [
    "How does this compare to the intended false-positive rate of $\\alpha=0.05$?"
   ]
  },
  {
   "cell_type": "markdown",
   "metadata": {},
   "source": [
    "> It's as expected to have false positive rate around 5%"
   ]
  },
  {
   "cell_type": "markdown",
   "metadata": {},
   "source": [
    "Ok, that was a bit boring. Let's try something more interesting - let's implement a p-value sniffing simulation, in the style of Simons, Nelson, & Simonsohn (2011).\n",
    "\n",
    "Consider this scenario: you have done an experiment, again with 30 participants (one observation each, just for simplicity). The question is whether the true mean is different from 0. You aren't going to check the p-value every trial, but let's say you run 30 - then if the p-value is within the range p < .25 and p > .05, you optionally run 30 more and add those data, then test again. But if the original p value is < .05, you call it a day, and if the original is > .25, you also stop.  \n",
    "\n",
    "First, write a function that implements this sampling regime.\n",
    "\n",
    "```{r}\n",
    "double.sample <- function () {\n",
    "}\n",
    "```"
   ]
  },
  {
   "cell_type": "code",
   "execution_count": null,
   "metadata": {},
   "outputs": [],
   "source": [
    "def double_sample(threshold=0.25):\n",
    "    dist = np.random.normal(size=30)\n",
    "    ttest_result = stats.ttest_1samp(dist, 0)\n",
    "    if ttest_result.pvalue < 0.05:\n",
    "        return True\n",
    "    elif ttest_result.pvalue < threshold:\n",
    "        dist_add = np.random.normal(size=30)\n",
    "        dist = np.concatenate((dist, dist_add))\n",
    "        ttest_result = stats.ttest_1samp(dist, 0)\n",
    "        if ttest_result.pvalue < 0.05:\n",
    "            return True\n",
    "        else:\n",
    "            return False"
   ]
  },
  {
   "cell_type": "markdown",
   "metadata": {},
   "source": [
    "\n",
    "Now call this function 10k times and find out what happens. \n",
    "\n",
    "```{r}\n",
    "```\n"
   ]
  },
  {
   "cell_type": "code",
   "execution_count": null,
   "metadata": {},
   "outputs": [],
   "source": [
    "def test_false_positives(threshold=0.25):\n",
    "    false_positives = 0\n",
    "    trial = 10000\n",
    "    for i in range(trial):\n",
    "        if double_sample(threshold):\n",
    "            false_positives += 1\n",
    "\n",
    "    print(f\"False positive rate: {false_positives / trial}\")\n",
    "test_false_positives()"
   ]
  },
  {
   "cell_type": "markdown",
   "metadata": {},
   "source": [
    "\n",
    "Is there an inflation of false positives? How bad is it?\n"
   ]
  },
  {
   "cell_type": "markdown",
   "metadata": {},
   "source": [
    ">The false positive rate is 7% instead of 5%"
   ]
  },
  {
   "cell_type": "markdown",
   "metadata": {},
   "source": [
    "Now modify this code so that you can investigate this \"double the sample\" rule in a bit more depth. In the previous question, the researcher doubles the sample only when they think they got \"close\" to a significant result, i.e. when their not-significant p is less than 0.25. What if the researcher was more optimistic? See what happens in these 3 other scenarios:\n",
    "\n",
    "* The researcher doubles the sample whenever their pvalue is not significant, but it's less than 0.5.\n",
    "* The researcher doubles the sample whenever their pvalue is not significant, but it's less than 0.75.\n",
    "* The research doubles their sample whenever they get ANY pvalue that is not significant.\n",
    "\n",
    "How do these choices affect the false positive rate?\n",
    "\n",
    "HINT: Try to do this by making the function `double.sample` take the upper p value as an argument, so that you can pass this through dplyr.\n",
    "\n",
    "HINT 2: You may need more samples. Find out by looking at how the results change from run to run.\n",
    "\n",
    "```{r}\n",
    "```\n"
   ]
  },
  {
   "cell_type": "code",
   "execution_count": null,
   "metadata": {},
   "outputs": [],
   "source": [
    "test_false_positives(0.5)\n",
    "test_false_positives(0.75)\n",
    "test_false_positives(1.0)"
   ]
  },
  {
   "cell_type": "markdown",
   "metadata": {},
   "source": [
    "\n",
    "What do you conclude on the basis of this simulation? How bad is this kind of data-dependent policy?"
   ]
  },
  {
   "cell_type": "markdown",
   "metadata": {},
   "source": [
    "> By increasing the sample size after looking at the statistics, the false positive rate increases.\n",
    "> The false positive rate increases as the researchers increase the threshold when they double the sample size.\n",
    "> The increase effect saturates quickly after when the researcher increase the threshold beyond 0.5."
   ]
  }
 ],
 "metadata": {
  "kernelspec": {
   "display_name": "Python 3",
   "language": "python",
   "name": "python3"
  },
  "language_info": {
   "codemirror_mode": {
    "name": "ipython",
    "version": 3
   },
   "file_extension": ".py",
   "mimetype": "text/x-python",
   "name": "python",
   "nbconvert_exporter": "python",
   "pygments_lexer": "ipython3",
   "version": "3.6.8"
  }
 },
 "nbformat": 4,
 "nbformat_minor": 2
}
