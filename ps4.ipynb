{
 "cells": [
  {
   "cell_type": "markdown",
   "metadata": {
    "run_control": {
     "frozen": false,
     "read_only": false
    }
   },
   "source": [
    "This is problem set #4, in which we want you to integrate your knowledge of data wrangling with some basic simulation skills. It's a short problem set to help you get your feet wet in testing statistical concepts through \"making up data\" rather than consulting a textbook or doing math. \n",
    "\n",
    "For ease of reading, please separate your answers from our text by marking our text with the `>` character (indicating quotes). \n",
    "\n",
    "```{r, warning=F, message=F}\n",
    "library(tidyverse)\n",
    "```"
   ]
  },
  {
   "cell_type": "code",
   "execution_count": 1,
   "metadata": {},
   "outputs": [],
   "source": [
    "import pandas as pd\n",
    "import numpy as np\n",
    "import plotnine as gg\n",
    "from scipy import stats"
   ]
  },
  {
   "cell_type": "markdown",
   "metadata": {},
   "source": [
    "\n",
    "Let's start by convincing ourselves that t-tests have the appropriate false positive rate. Run 10,000 t-tests with standard, normally-distributed data from a made up 30-person, single-measurement experiment (the command for sampling from a normal distribution is `rnorm`).\n",
    "\n",
    "The goal of these t-tests are to determine, based on 30 observations, whether the underlying distribution (in this case a normal distribution with mean 0 and standard deviation 1) has a mean that is different from 0. In reality, the mean is not different from 0 (we sampled it using `rnorm`), but sometimes the 30 observations we get in our experiment will suggest that the mean is higher or lower. In this case, we'll get a \"significant\" result and incorrectly reject the null hypothesis of mean 0.\n",
    "\n",
    "What's the proportion of \"significant\" results ($p < .05$) that you see?\n",
    "\n",
    "First do this using a `for` loop.\n",
    "\n",
    "```{r}\n",
    "```"
   ]
  },
  {
   "cell_type": "code",
   "execution_count": 12,
   "metadata": {},
   "outputs": [
    {
     "name": "stdout",
     "output_type": "stream",
     "text": [
      "Ttest_1sampResult(statistic=-0.07094421989346486, pvalue=0.943929144365294)\n",
      "Ttest_1sampResult(statistic=-0.021255965221569362, pvalue=0.9831870514014316)\n",
      "Ttest_1sampResult(statistic=0.5687950917186169, pvalue=0.5738742137333928)\n",
      "Ttest_1sampResult(statistic=-0.3794827792177964, pvalue=0.7070941174982196)\n",
      "Ttest_1sampResult(statistic=-1.7738250301943719, pvalue=0.08659420086299342)\n",
      "Ttest_1sampResult(statistic=-1.169002920951274, pvalue=0.2519220325901182)\n",
      "Ttest_1sampResult(statistic=0.8449911299115621, pvalue=0.4050334626947413)\n",
      "Ttest_1sampResult(statistic=-0.790046223145534, pvalue=0.4359137168633419)\n",
      "Ttest_1sampResult(statistic=-0.08706178465196417, pvalue=0.9312207823824327)\n",
      "Ttest_1sampResult(statistic=-0.36252301889292265, pvalue=0.7195899648637516)\n",
      "Ttest_1sampResult(statistic=1.9424784786904041, pvalue=0.06184644937765668)\n",
      "Ttest_1sampResult(statistic=1.6353961528868861, pvalue=0.11277562225635614)\n",
      "Ttest_1sampResult(statistic=0.12183718937633178, pvalue=0.9038683167275986)\n",
      "Ttest_1sampResult(statistic=0.5758608592283025, pvalue=0.5691515526947186)\n",
      "Ttest_1sampResult(statistic=-0.140929329432225, pvalue=0.8889001570328569)\n",
      "Ttest_1sampResult(statistic=0.14091741976544123, pvalue=0.8889094817765788)\n",
      "Ttest_1sampResult(statistic=-1.614379613026476, pvalue=0.11727487035866271)\n",
      "Ttest_1sampResult(statistic=-0.1402550058927902, pvalue=0.8894281480534709)\n",
      "Ttest_1sampResult(statistic=0.8653552307983978, pvalue=0.393946378239472)\n",
      "Ttest_1sampResult(statistic=0.3077602684136253, pvalue=0.7604643151226207)\n",
      "Ttest_1sampResult(statistic=-0.03427063264474911, pvalue=0.9728961446132406)\n",
      "Ttest_1sampResult(statistic=-1.3139070854242032, pvalue=0.19917682583404253)\n",
      "Ttest_1sampResult(statistic=1.4538628806900398, pvalue=0.15672197739524707)\n",
      "Ttest_1sampResult(statistic=-1.6973586262324771, pvalue=0.10033740356246186)\n",
      "Ttest_1sampResult(statistic=0.33164277558371524, pvalue=0.7425439034540868)\n",
      "Ttest_1sampResult(statistic=0.34157684369282526, pvalue=0.7351321756470428)\n",
      "Ttest_1sampResult(statistic=0.4827675449301331, pvalue=0.6328852599834811)\n",
      "Ttest_1sampResult(statistic=1.2299353204012209, pvalue=0.22860614509748922)\n",
      "Ttest_1sampResult(statistic=2.6066822714493907, pvalue=0.014288015179548726)\n",
      "Ttest_1sampResult(statistic=-0.08814974219728837, pvalue=0.930363576748883)\n",
      "1\n"
     ]
    }
   ],
   "source": [
    "significant_count = 0\n",
    "for _ in range(30):\n",
    "    dist = np.random.normal(size=30)\n",
    "    ttest_result = stats.ttest_1samp(dist, 0)\n",
    "    print(ttest_result)\n",
    "    if ttest_result.pvalue < 0.05:\n",
    "        significant_count += 1\n",
    "\n",
    "print(significant_count)"
   ]
  },
  {
   "cell_type": "markdown",
   "metadata": {},
   "source": [
    "\n",
    "Next, do this using the `replicate` function:\n",
    "\n",
    "```{r}\n",
    "```\n"
   ]
  },
  {
   "cell_type": "code",
   "execution_count": 13,
   "metadata": {},
   "outputs": [],
   "source": [
    "# Not available"
   ]
  },
  {
   "cell_type": "markdown",
   "metadata": {},
   "source": [
    "How does this compare to the intended false-positive rate of $\\alpha=0.05$?"
   ]
  },
  {
   "cell_type": "markdown",
   "metadata": {},
   "source": [
    "> It's as expected to have false positive rate around 5%"
   ]
  },
  {
   "cell_type": "markdown",
   "metadata": {},
   "source": [
    "Ok, that was a bit boring. Let's try something more interesting - let's implement a p-value sniffing simulation, in the style of Simons, Nelson, & Simonsohn (2011).\n",
    "\n",
    "Consider this scenario: you have done an experiment, again with 30 participants (one observation each, just for simplicity). The question is whether the true mean is different from 0. You aren't going to check the p-value every trial, but let's say you run 30 - then if the p-value is within the range p < .25 and p > .05, you optionally run 30 more and add those data, then test again. But if the original p value is < .05, you call it a day, and if the original is > .25, you also stop.  \n",
    "\n",
    "First, write a function that implements this sampling regime.\n",
    "\n",
    "```{r}\n",
    "double.sample <- function () {\n",
    "}\n",
    "```"
   ]
  },
  {
   "cell_type": "code",
   "execution_count": 22,
   "metadata": {},
   "outputs": [],
   "source": [
    "def double_sample(threshold=0.25):\n",
    "    dist = np.random.normal(size=30)\n",
    "    ttest_result = stats.ttest_1samp(dist, 0)\n",
    "    if ttest_result.pvalue < 0.05:\n",
    "        return True\n",
    "    elif ttest_result.pvalue < threshold:\n",
    "        dist_add = np.random.normal(size=30)\n",
    "        dist = np.concatenate((dist, dist_add))\n",
    "        ttest_result = stats.ttest_1samp(dist, 0)\n",
    "        if ttest_result.pvalue < 0.05:\n",
    "            return True\n",
    "        else:\n",
    "            return False"
   ]
  },
  {
   "cell_type": "markdown",
   "metadata": {},
   "source": [
    "\n",
    "Now call this function 10k times and find out what happens. \n",
    "\n",
    "```{r}\n",
    "```\n"
   ]
  },
  {
   "cell_type": "code",
   "execution_count": 24,
   "metadata": {},
   "outputs": [
    {
     "name": "stdout",
     "output_type": "stream",
     "text": [
      "False positive rate: 0.0726\n"
     ]
    }
   ],
   "source": [
    "def test_false_positives(threshold=0.25):\n",
    "    false_positives = 0\n",
    "    trial = 10000\n",
    "    for i in range(trial):\n",
    "        if double_sample(threshold):\n",
    "            false_positives += 1\n",
    "\n",
    "    print(f\"False positive rate: {false_positives / trial}\")\n",
    "test_false_positives()"
   ]
  },
  {
   "cell_type": "markdown",
   "metadata": {},
   "source": [
    "\n",
    "Is there an inflation of false positives? How bad is it?\n"
   ]
  },
  {
   "cell_type": "markdown",
   "metadata": {},
   "source": [
    ">The false positive rate is 7% instead of 5%"
   ]
  },
  {
   "cell_type": "markdown",
   "metadata": {},
   "source": [
    "Now modify this code so that you can investigate this \"double the sample\" rule in a bit more depth. In the previous question, the researcher doubles the sample only when they think they got \"close\" to a significant result, i.e. when their not-significant p is less than 0.25. What if the researcher was more optimistic? See what happens in these 3 other scenarios:\n",
    "\n",
    "* The researcher doubles the sample whenever their pvalue is not significant, but it's less than 0.5.\n",
    "* The researcher doubles the sample whenever their pvalue is not significant, but it's less than 0.75.\n",
    "* The research doubles their sample whenever they get ANY pvalue that is not significant.\n",
    "\n",
    "How do these choices affect the false positive rate?\n",
    "\n",
    "HINT: Try to do this by making the function `double.sample` take the upper p value as an argument, so that you can pass this through dplyr.\n",
    "\n",
    "HINT 2: You may need more samples. Find out by looking at how the results change from run to run.\n",
    "\n",
    "```{r}\n",
    "```\n"
   ]
  },
  {
   "cell_type": "code",
   "execution_count": 26,
   "metadata": {},
   "outputs": [
    {
     "name": "stdout",
     "output_type": "stream",
     "text": [
      "False positive rate: 0.0792\n",
      "False positive rate: 0.0851\n",
      "False positive rate: 0.0882\n"
     ]
    }
   ],
   "source": [
    "test_false_positives(0.5)\n",
    "test_false_positives(0.75)\n",
    "test_false_positives(1.0)"
   ]
  },
  {
   "cell_type": "markdown",
   "metadata": {},
   "source": [
    "\n",
    "What do you conclude on the basis of this simulation? How bad is this kind of data-dependent policy?"
   ]
  },
  {
   "cell_type": "markdown",
   "metadata": {},
   "source": [
    "> By increasing the sample size after looking at the statistics, the false positive rate increases.\n",
    "> The false positive rate increases as the researchers increase the threshold when they double the sample size\n",
    "> The increase effect saturates quickly after when the researcher increase the threshold beyond 0.5."
   ]
  }
 ],
 "metadata": {
  "kernelspec": {
   "display_name": "Python 3",
   "language": "python",
   "name": "python3"
  },
  "language_info": {
   "codemirror_mode": {
    "name": "ipython",
    "version": 3
   },
   "file_extension": ".py",
   "mimetype": "text/x-python",
   "name": "python",
   "nbconvert_exporter": "python",
   "pygments_lexer": "ipython3",
   "version": "3.6.8"
  }
 },
 "nbformat": 4,
 "nbformat_minor": 2
}
