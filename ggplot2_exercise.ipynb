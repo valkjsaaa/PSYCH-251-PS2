{
  "nbformat": 4,
  "nbformat_minor": 0,
  "metadata": {
    "kernelspec": {
      "display_name": "Python 3",
      "language": "python",
      "name": "python3"
    },
    "language_info": {
      "codemirror_mode": {
        "name": "ipython",
        "version": 3
      },
      "file_extension": ".py",
      "mimetype": "text/x-python",
      "name": "python",
      "nbconvert_exporter": "python",
      "pygments_lexer": "ipython3",
      "version": "3.7.4"
    },
    "colab": {
      "name": "Copy of ggplot2_exercise.ipynb",
      "provenance": []
    }
  },
  "cells": [
    {
      "cell_type": "markdown",
      "metadata": {
        "id": "nXSWwXy5g4cu",
        "colab_type": "text"
      },
      "source": [
        "This is an in-class exercise on using `ggplot2`.\n",
        "\n",
        "Note, that this example is from the_grammar.R on [http://had.co.nz/ggplot2](). I've adapted this for psych 251 purposes\n",
        "\n",
        "First install and load the package. It's part of the \"core tidvyerse\".\n",
        "\n",
        "```{r}\n",
        "library(tidyverse)\n",
        "```"
      ]
    },
    {
      "cell_type": "code",
      "metadata": {
        "id": "M1r8dOe0g8SX",
        "colab_type": "code",
        "colab": {}
      },
      "source": [
        "import matplotlib.pyplot as plt\n",
        "import seaborn as sns\n",
        "from pandas import DataFrame"
      ],
      "execution_count": 0,
      "outputs": []
    },
    {
      "cell_type": "markdown",
      "metadata": {
        "id": "aUm2d6MjhOVO",
        "colab_type": "text"
      },
      "source": [
        "# Exploring ggplot2 using `qplot`\n",
        "\n",
        "We'll start by using `qplot`. `qplot` is the easy interface, meant to replace `plot`. You can give it simple `qplot(x,y)` examples, or slightly more complex examples like `qplot(x, y, col=grp, data=d)`. \n",
        "\n",
        "We're going to be using the `diamonds` dataset. This is a set of measurements of diamonds, along with their price etc.\n",
        "\n",
        "\n",
        "```{r}\n",
        "head(diamonds)\n",
        "qplot(diamonds$carat, diamonds$price)\n",
        "```"
      ]
    },
    {
      "cell_type": "code",
      "metadata": {
        "id": "NMA-mXrjhf6w",
        "colab_type": "code",
        "colab": {}
      },
      "source": [
        ""
      ],
      "execution_count": 0,
      "outputs": []
    },
    {
      "cell_type": "markdown",
      "metadata": {
        "id": "n4vG26vQhakE",
        "colab_type": "text"
      },
      "source": [
        "Scatter plots are trivial, and easy to add features to. Modify this plot so that it uses the dataframe rather than working from variables in the general namespace (good to get away from retyping `diamonds$` every time you reference a variable). \n",
        "\n",
        "```{r}\n",
        "\n",
        "```"
      ]
    }
  ]
}